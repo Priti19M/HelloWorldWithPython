{
  "nbformat": 4,
  "nbformat_minor": 0,
  "metadata": {
    "colab": {
      "provenance": [],
      "authorship_tag": "ABX9TyPjRI+7Ao+TDeEiEnKtsSKJ",
      "include_colab_link": true
    },
    "kernelspec": {
      "name": "python3",
      "display_name": "Python 3"
    },
    "language_info": {
      "name": "python"
    }
  },
  "cells": [
    {
      "cell_type": "markdown",
      "metadata": {
        "id": "view-in-github",
        "colab_type": "text"
      },
      "source": [
        "<a href=\"https://colab.research.google.com/github/Priti19M/HelloWorldWithPython/blob/main/PythonBasic.ipynb\" target=\"_parent\"><img src=\"https://colab.research.google.com/assets/colab-badge.svg\" alt=\"Open In Colab\"/></a>"
      ]
    },
    {
      "cell_type": "markdown",
      "source": [
        "link to excercises https://pynative.com/python-basic-exercise-for-beginners/"
      ],
      "metadata": {
        "id": "08fmM1MSpOii"
      }
    },
    {
      "cell_type": "code",
      "source": [
        "\n",
        "#ex1\n",
        "x,y=map(int,input().split())\n",
        "prod=x*y\n",
        "if prod<=1000:\n",
        "  print(f'the result is {prod}')\n",
        "else:\n",
        "  print(f\"The result is {x+y}\")"
      ],
      "metadata": {
        "colab": {
          "base_uri": "https://localhost:8080/"
        },
        "id": "B5FCiq7YmGGe",
        "outputId": "df03bca6-d012-4157-9ca1-a5697e8b9b34"
      },
      "execution_count": null,
      "outputs": [
        {
          "output_type": "stream",
          "name": "stdout",
          "text": [
            "40 30\n",
            "The result is 70\n"
          ]
        }
      ]
    },
    {
      "cell_type": "code",
      "source": [
        "#ex2\n",
        "prev=0\n",
        "for i in range(10):\n",
        "  print(f\"Current num {i} and prev num {prev} Sum : {i+prev}\")\n",
        "  prev=i #once the printing the current n prev is done prev element is assigned with new value of i\n"
      ],
      "metadata": {
        "colab": {
          "base_uri": "https://localhost:8080/"
        },
        "id": "KmmQKpRnrFHp",
        "outputId": "9657534e-b6f6-48b2-cc94-876ddf1eba0d"
      },
      "execution_count": null,
      "outputs": [
        {
          "output_type": "stream",
          "name": "stdout",
          "text": [
            "Current num 0 and prev num 0 Sum : 0\n",
            "Current num 1 and prev num 0 Sum : 1\n",
            "Current num 2 and prev num 1 Sum : 3\n",
            "Current num 3 and prev num 2 Sum : 5\n",
            "Current num 4 and prev num 3 Sum : 7\n",
            "Current num 5 and prev num 4 Sum : 9\n",
            "Current num 6 and prev num 5 Sum : 11\n",
            "Current num 7 and prev num 6 Sum : 13\n",
            "Current num 8 and prev num 7 Sum : 15\n",
            "Current num 9 and prev num 8 Sum : 17\n"
          ]
        }
      ]
    },
    {
      "cell_type": "code",
      "source": [
        "#ex3 # method1\n",
        "str1=input()\n",
        "for num in range(len(str1)): # why used range n len coz we wanted to access the indexes of the string\n",
        "  if num%2==0:\n",
        "    print(str1[num])# str1[num] coz print the the character at the specifice index"
      ],
      "metadata": {
        "colab": {
          "base_uri": "https://localhost:8080/"
        },
        "id": "M4K2TieAufcp",
        "outputId": "c676a96e-ef3d-40c2-9542-ea4e87388678"
      },
      "execution_count": null,
      "outputs": [
        {
          "output_type": "stream",
          "name": "stdout",
          "text": [
            "pynative\n",
            "p\n",
            "n\n",
            "t\n",
            "v\n"
          ]
        }
      ]
    },
    {
      "cell_type": "code",
      "source": [
        "#method2\n",
        "str1=input()\n",
        "size=len(str1)\n",
        "for num in range(0,size,2): # why used range n len coz we wanted to access the indexes of the string\n",
        "  # if num%2==0:\n",
        "  print(str1[num])"
      ],
      "metadata": {
        "colab": {
          "base_uri": "https://localhost:8080/"
        },
        "id": "9MaaTZ7e1IwM",
        "outputId": "84178c22-3bec-4057-8530-49de123e3f14"
      },
      "execution_count": null,
      "outputs": [
        {
          "output_type": "stream",
          "name": "stdout",
          "text": [
            "pynative\n",
            "p\n",
            "n\n",
            "t\n",
            "v\n"
          ]
        }
      ]
    },
    {
      "cell_type": "code",
      "source": [
        "#method 3\n",
        "str1=list(input())\n",
        "for i in str1[0::2]: #start from 0 index \"\"blank means go till the end index \"2\" means of the interval of 2\n",
        "  print(i)\n"
      ],
      "metadata": {
        "colab": {
          "base_uri": "https://localhost:8080/"
        },
        "id": "CLlCPLwS2SBB",
        "outputId": "aef68f1e-9647-403e-f990-e5547fca1f9b"
      },
      "execution_count": null,
      "outputs": [
        {
          "output_type": "stream",
          "name": "stdout",
          "text": [
            "pynative\n",
            "p\n",
            "n\n",
            "t\n",
            "v\n"
          ]
        }
      ]
    },
    {
      "cell_type": "code",
      "source": [
        "# ex3\n",
        "def remove_char(string1,num): #string1 and num are parameter\n",
        "  x=string1[num:]\n",
        "  return x\n",
        "\n",
        "\n",
        "remove_char(\"pynative\",4) # funtion is called #pynative and 4 are argument as they're are sent to the funtion defination above"
      ],
      "metadata": {
        "colab": {
          "base_uri": "https://localhost:8080/",
          "height": 35
        },
        "id": "NhnCs8LR3Gwu",
        "outputId": "6652888e-aac7-4e15-e5ca-8f1ea77424b6"
      },
      "execution_count": null,
      "outputs": [
        {
          "output_type": "execute_result",
          "data": {
            "text/plain": [
              "'tive'"
            ],
            "application/vnd.google.colaboratory.intrinsic+json": {
              "type": "string"
            }
          },
          "metadata": {},
          "execution_count": 8
        }
      ]
    },
    {
      "cell_type": "code",
      "source": [
        "#ex4\n",
        "def first_last(arr):\n",
        "    if arr[0]==arr[-1]:\n",
        "        return True\n",
        "    else:\n",
        "       return False\n",
        "\n",
        "x=list(map(int,input(\"Enter List:\").split()))\n",
        "\n",
        "print(first_last(x))"
      ],
      "metadata": {
        "colab": {
          "base_uri": "https://localhost:8080/"
        },
        "id": "5L_oU4i_yZhB",
        "outputId": "3f6e0199-66d9-422f-fce2-8fc13fd33e6f"
      },
      "execution_count": null,
      "outputs": [
        {
          "output_type": "stream",
          "name": "stdout",
          "text": [
            "Enter List:10 20 40 50 10\n",
            "True\n"
          ]
        }
      ]
    },
    {
      "cell_type": "code",
      "source": [
        "#ex6\n",
        "x=list(map(int,input().split()))\n",
        "for i in x:\n",
        "    if i%5==0:\n",
        "        print(i)"
      ],
      "metadata": {
        "id": "tPAiOvO_1DXO"
      },
      "execution_count": null,
      "outputs": []
    },
    {
      "cell_type": "code",
      "source": [
        "#ex7\n",
        "str_x=\"Emma is good developer. Emma is a writer\"\n",
        "print(str_x.count(\"Emma\")) #return number of time specified value appeared in string"
      ],
      "metadata": {
        "id": "77ISibK42Vxm"
      },
      "execution_count": null,
      "outputs": []
    },
    {
      "cell_type": "code",
      "source": [
        "#ex8\n",
        "for i in range(1,6):\n",
        "    for j in range(0,i):\n",
        "        print(i,end=\" \")\n",
        "    print(\" \")"
      ],
      "metadata": {
        "id": "fzxyDJ9G24Xj"
      },
      "execution_count": null,
      "outputs": []
    },
    {
      "cell_type": "code",
      "source": [
        "\n",
        "#ex9\n",
        "def palindrome(x):\n",
        "    org_num=x\n",
        "    reverse_num=0\n",
        "    while x!=0:\n",
        "        digit=x%10\n",
        "        reverse_num=reverse_num*10+digit\n",
        "        x= x//10\n",
        "    if org_num==reverse_num:\n",
        "        print(\"Palindrome\")\n",
        "    else:\n",
        "        print(\"Not Palindrome\")\n",
        "\n",
        "\n",
        "palindrome(int(input()))\n",
        "# palindrome(123)"
      ],
      "metadata": {
        "colab": {
          "base_uri": "https://localhost:8080/"
        },
        "id": "P-p0P6HT_QHu",
        "outputId": "9f7c4af8-f818-4157-c135-f6690457123d"
      },
      "execution_count": null,
      "outputs": [
        {
          "output_type": "stream",
          "name": "stdout",
          "text": [
            "123\n",
            "Not Palindrome\n"
          ]
        }
      ]
    },
    {
      "cell_type": "code",
      "source": [
        "#ex10\n",
        "def new_list(list1,list2):\n",
        "    newlist=[]\n",
        "\n",
        "    for i in range(len(list1)):\n",
        "        if list1[i] %2!=0:\n",
        "            newlist.append(list1[i]) #append is used to add new item at the end of the list\n",
        "\n",
        "    for j in range(len(list2)):\n",
        "        if list2[j]%2==0:\n",
        "            newlist.append(list2[j])\n",
        "    return newlist\n",
        "\n",
        "list1 = [10, 20, 25, 30, 35]\n",
        "list2 = [40, 45, 60, 75, 90]\n",
        "print(new_list(list1,list2))"
      ],
      "metadata": {
        "id": "bayVxCJEKnUq"
      },
      "execution_count": null,
      "outputs": []
    },
    {
      "cell_type": "code",
      "source": [
        "2%10"
      ],
      "metadata": {
        "colab": {
          "base_uri": "https://localhost:8080/"
        },
        "id": "I1Z6BvXpaqCP",
        "outputId": "58bf003a-265e-40d5-8db2-57ff287ea852"
      },
      "execution_count": null,
      "outputs": [
        {
          "output_type": "execute_result",
          "data": {
            "text/plain": [
              "2"
            ]
          },
          "metadata": {},
          "execution_count": 7
        }
      ]
    },
    {
      "cell_type": "code",
      "source": [
        "#ex 11\n",
        "\n",
        "x=int(input(\"enter: \"))\n",
        "while x!=0:\n",
        "    digit=x%10\n",
        "    x=x//10\n",
        "    print(digit,end=\" \")\n",
        "    '''end is used why? in python by default print fuction ends with newline to\n",
        "    avoid that and to add element at the end of same line end is used with \" \" space or without \"\" space\n",
        "    basically- instead of going to newline the item get print on the same line'''\n"
      ],
      "metadata": {
        "colab": {
          "base_uri": "https://localhost:8080/"
        },
        "id": "o_GnV0IDqLLT",
        "outputId": "5fc25d68-dd92-4ccd-c2a1-fca53c291758"
      },
      "execution_count": null,
      "outputs": [
        {
          "output_type": "stream",
          "name": "stdout",
          "text": [
            "enter: 1234\n",
            "4 3 2 1 "
          ]
        }
      ]
    },
    {
      "cell_type": "markdown",
      "source": [
        "Loops excercise\n",
        "https://pynative.com/python-if-else-and-for-loop-exercise-with-solutions/\n"
      ],
      "metadata": {
        "id": "XDEITiAAStot"
      }
    },
    {
      "cell_type": "code",
      "source": [
        "# ex1:Print First 10 natural numbers using while loop\n",
        "# when to use while loop?? when iteration are known\n",
        "n=1\n",
        "while n<=10:\n",
        "    print(n)\n",
        "    n+=1"
      ],
      "metadata": {
        "colab": {
          "base_uri": "https://localhost:8080/"
        },
        "id": "pSmd8mhlS1AZ",
        "outputId": "dc6b13e6-fa1c-42d1-f8fc-83958da3c429"
      },
      "execution_count": null,
      "outputs": [
        {
          "output_type": "stream",
          "name": "stdout",
          "text": [
            "1\n",
            "2\n",
            "3\n",
            "4\n",
            "5\n",
            "6\n",
            "7\n",
            "8\n",
            "9\n",
            "10\n"
          ]
        }
      ]
    },
    {
      "cell_type": "code",
      "source": [
        "#  ex2\n",
        "\n",
        "for row in range(1,6):\n",
        "    for col in range(1,row+1):\n",
        "        print(col,end=\"\")\n",
        "    print(\"\\n\")\n"
      ],
      "metadata": {
        "colab": {
          "base_uri": "https://localhost:8080/"
        },
        "id": "PzQcuBeDS5dB",
        "outputId": "e7ba6157-fdca-4c69-a96f-7b3f502369ed"
      },
      "execution_count": null,
      "outputs": [
        {
          "output_type": "stream",
          "name": "stdout",
          "text": [
            "1\n",
            "\n",
            "12\n",
            "\n",
            "123\n",
            "\n",
            "1234\n",
            "\n",
            "12345\n",
            "\n"
          ]
        }
      ]
    },
    {
      "cell_type": "code",
      "source": [
        "# ex3\n",
        "sum=0\n",
        "x=int(input(\"enter:\"))\n",
        "for i in range(x+1):\n",
        "    sum+=i\n",
        "print(sum)"
      ],
      "metadata": {
        "colab": {
          "base_uri": "https://localhost:8080/"
        },
        "id": "a57CqfAGTAVx",
        "outputId": "0216a012-a160-4a41-b326-a841ab4792be"
      },
      "execution_count": null,
      "outputs": [
        {
          "output_type": "stream",
          "name": "stdout",
          "text": [
            "enter:10\n",
            "55\n"
          ]
        }
      ]
    },
    {
      "cell_type": "code",
      "source": [
        "#ex5\n",
        "num = [12, 75, 150, 180, 145, 525, 50]\n",
        "\n",
        "for i in num:\n",
        "    if i>500:\n",
        "        break #The break statement is used inside the loop to exit out of the loop\n",
        "    elif i>150:\n",
        "        continue\n",
        "         # skips if condition is true and control goes to next iteration, statement below the continue\n",
        "    elif i%5==0:\n",
        "        print(i)"
      ],
      "metadata": {
        "colab": {
          "base_uri": "https://localhost:8080/"
        },
        "id": "XN7gXVJaT4SS",
        "outputId": "c5656f53-270c-43f1-bed7-8a331f1dfcff"
      },
      "execution_count": null,
      "outputs": [
        {
          "output_type": "stream",
          "name": "stdout",
          "text": [
            "75\n",
            "150\n",
            "145\n"
          ]
        }
      ]
    },
    {
      "cell_type": "markdown",
      "source": [
        "https://pynative.com/python-break-continue-pass/\n"
      ],
      "metadata": {
        "id": "TQ1iYAbOV5kB"
      }
    },
    {
      "cell_type": "markdown",
      "source": [
        "The continue statement skip the current iteration and move to the next iteration\n"
      ],
      "metadata": {
        "id": "kxAlhDvlU0Zw"
      }
    },
    {
      "cell_type": "markdown",
      "source": [
        "![flowchart-of-continue-statement.webp](data:image/webp;base64,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)"
      ],
      "metadata": {
        "id": "v7Jq74aHUT1c"
      }
    },
    {
      "cell_type": "markdown",
      "source": [
        "The break statement is used inside the loop to exit out of the loop\n"
      ],
      "metadata": {
        "id": "s09wuRLmUYEk"
      }
    },
    {
      "cell_type": "markdown",
      "source": [
        "![flowchart-of-break-statement.webp](data:image/webp;base64,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)"
      ],
      "metadata": {
        "id": "N9alJIR-UfvZ"
      }
    },
    {
      "cell_type": "code",
      "source": [
        "#ex8\n",
        "list1 = [10, 20, 30, 40, 50]\n",
        "size=len(list1)-1 #coz index start from 0 therefore 5-1=4 as range will go from 0,1,2,3,4\n",
        "for i in range(size,-1,-1):#size is 4 and list[4]=50 there will start with size and go till -1 as if we fo till 0 first element at list[0]=10 will me skiped and -1 as step for decrement\n",
        "\n",
        "    print(list1[i])"
      ],
      "metadata": {
        "colab": {
          "base_uri": "https://localhost:8080/"
        },
        "id": "oF6PAwPmdKQ5",
        "outputId": "ee5df692-fb85-4518-f0b7-f18affb9fd8c"
      },
      "execution_count": null,
      "outputs": [
        {
          "output_type": "stream",
          "name": "stdout",
          "text": [
            "50\n",
            "40\n",
            "30\n",
            "20\n",
            "10\n"
          ]
        }
      ]
    },
    {
      "cell_type": "code",
      "source": [
        "#ex9\n",
        "for i in range(-10,0,1): #start from -10 till 0 so that it will print til nuber before 0 which is -1 and \"step\" as 1 as -10+1=-9 and so on\n",
        "    print(i)"
      ],
      "metadata": {
        "colab": {
          "base_uri": "https://localhost:8080/"
        },
        "id": "lNaIZbJTrTyb",
        "outputId": "29319c28-ad6b-4d55-efc1-af86119b27c2"
      },
      "execution_count": null,
      "outputs": [
        {
          "output_type": "stream",
          "name": "stdout",
          "text": [
            "-10\n",
            "-9\n",
            "-8\n",
            "-7\n",
            "-6\n",
            "-5\n",
            "-4\n",
            "-3\n",
            "-2\n",
            "-1\n"
          ]
        }
      ]
    },
    {
      "cell_type": "markdown",
      "source": [
        "![python-reverse-range.jpg](data:image/jpeg;base64,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)"
      ],
      "metadata": {
        "id": "g0Lk8D91iJde"
      }
    },
    {
      "cell_type": "code",
      "source": [
        "\n",
        "# ex10\n",
        "\n",
        "for i in range(5):\n",
        "    print(i)\n",
        "    if i==4:\n",
        "        print(\"done!\")"
      ],
      "metadata": {
        "colab": {
          "base_uri": "https://localhost:8080/"
        },
        "id": "tVm6PgdsrX00",
        "outputId": "fef3f246-fed9-421a-e6f5-08ed34dc08ba"
      },
      "execution_count": null,
      "outputs": [
        {
          "output_type": "stream",
          "name": "stdout",
          "text": [
            "0\n",
            "1\n",
            "2\n",
            "3\n",
            "4\n",
            "done!\n"
          ]
        }
      ]
    },
    {
      "cell_type": "code",
      "source": [
        "# exp 11 #prime number\n",
        "from math import sqrt\n",
        "start=20\n",
        "end=51\n",
        "for num in range(start,end+1): #go from specified range\n",
        "    if num>1: #check if num is greater that 1 if greater than 1 then as we have to check if the given number is prime\n",
        "              #or not by dividing it them from the range of 2 to squareroot of N\n",
        "        for j in range(2,int(sqrt(num))+1): # why range of 2 to sqareroot of n?? as from going to 2 to all till the\n",
        "                                            #end we took instead squareroot as the larger factors of num will be multiple\n",
        "                                            #of smaller factors then we will only focus on checking smaller factors and will check that\n",
        "            if (num%j==0): # if num is divisible by any num ranging from 2 to the squareroot of N then num is not prime\n",
        "                break # breaking the loop as even if num is divided by even single num from the above range i.e 2 to squareroot\n",
        "                      #of n it willbe not a prime number\n",
        "        else: # after checking all num from range 2 to squareroot of n if not a single num completely divides the n then it is prime number\n",
        "            print(num) # hence print the number\n",
        "\n"
      ],
      "metadata": {
        "id": "eLTZiSAmsRJE",
        "colab": {
          "base_uri": "https://localhost:8080/"
        },
        "outputId": "9e9b4a13-d340-4db5-cf9f-de8f5d643780"
      },
      "execution_count": null,
      "outputs": [
        {
          "output_type": "stream",
          "name": "stdout",
          "text": [
            "23\n",
            "29\n",
            "31\n",
            "37\n",
            "41\n",
            "43\n",
            "47\n"
          ]
        }
      ]
    },
    {
      "cell_type": "code",
      "source": [
        "#fibonnanci series\n",
        "#ex12\n",
        "a=0\n",
        "b=1\n",
        "print(a)\n",
        "print(b) #printing them beforehand as they will be staring the series\n",
        "sum=0 #let sum equal to zero as we will be storing the adding of and b for series to go on\n",
        "for i in range(10): # range depends on how much numbers you want to print in the fibonnanci series\n",
        "    sum=a+b # add the first two numbers in the series\n",
        "    print(sum) # print it\n",
        "    a=b #now as we want series to go on till range we will have to reassign the a and b and keep on updating\n",
        "                                #suppose  a b (interation 1)\n",
        "                    #                       0 1 1 <--- sum of a and b\n",
        "                    # for interation 2        a b   and so\n",
        "\n",
        "\n",
        "    b=sum\n"
      ],
      "metadata": {
        "id": "_0Xr9Cktl7lI"
      },
      "execution_count": null,
      "outputs": []
    },
    {
      "cell_type": "code",
      "source": [
        "#exp 13 #factorial\n",
        "x=int(input(\"enter\"))\n",
        "fact=1\n",
        "for i in range(x,0,-1): #why range from x to 0 with step as -1???\n",
        "    # eg 5!= 5*4*3*2*1 as 5 num is decreasing till 1 and not below 1 thats why range is from x till last num 0 as last num in range is not used\n",
        "    # we stopped till 1 and not 0 as we dont want fact to include \"0\" as multiplying anything with 0 is equal 0\n",
        "    fact*=i # now multiply them as egs above\n",
        "print(fact) # print the fact"
      ],
      "metadata": {
        "id": "MGjNCj7YsR_Y"
      },
      "execution_count": null,
      "outputs": []
    },
    {
      "cell_type": "code",
      "source": [
        "print(\"hello world\")"
      ],
      "metadata": {
        "id": "igfRIaJG2_Vy",
        "outputId": "73c0725b-f00f-4960-eb15-17f141aa118e",
        "colab": {
          "base_uri": "https://localhost:8080/"
        }
      },
      "execution_count": 1,
      "outputs": [
        {
          "output_type": "stream",
          "name": "stdout",
          "text": [
            "hello world\n"
          ]
        }
      ]
    }
  ]
}